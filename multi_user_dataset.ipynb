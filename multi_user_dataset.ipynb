{
 "cells": [
  {
   "cell_type": "code",
   "execution_count": 102,
   "id": "f970e224",
   "metadata": {},
   "outputs": [],
   "source": [
    "import os\n",
    "\n",
    "directory_path = './Data/'\n",
    "directory_content = os.listdir(directory_path)\n",
    "if '.DS_Store' in directory_content:\n",
    "    directory_content.remove('.DS_Store')\n"
   ]
  },
  {
   "cell_type": "code",
   "execution_count": 103,
   "id": "03107b64",
   "metadata": {},
   "outputs": [],
   "source": [
    "import pandas as pd\n",
    "\n",
    "def get_trajecotries_and_labels_datasets(user_path):\n",
    "    ## Get trajectories Dataset\n",
    "    df_trajectories = pd.read_csv(user_path + 'trajectories.csv',\n",
    "                                  names=['Latitude', 'Longitude', '0', 'Altitude', 'Date', 'Date_str', 'Time_str'],\n",
    "                                  parse_dates=True)\n",
    "    df_trajectories['DateTime'] = df_trajectories['Date_str'] + ' ' + df_trajectories['Time_str']\n",
    "    df_trajectories['DateTime'] = pd.to_datetime(df_trajectories['DateTime'])\n",
    "    df_trajectories = df_trajectories.drop(columns=['Date_str', 'Time_str', '0', 'Date'])\n",
    "\n",
    "    ## Get Labels Dataset\n",
    "    df_labels = pd.read_csv(user_path + 'labels.txt', delim_whitespace=True, skiprows=1, header=None)\n",
    "    df_labels['StartTime'] = df_labels[0] + ' ' + df_labels[1]\n",
    "    df_labels['EndTime'] = df_labels[2] + ' ' + df_labels[3]\n",
    "    df_labels['StartTime'] = pd.to_datetime(df_labels['StartTime'])\n",
    "    df_labels['EndTime'] = pd.to_datetime(df_labels['EndTime'])\n",
    "    df_labels = df_labels.drop(columns=[0, 1, 2, 3])\n",
    "    df_labels = df_labels.rename(columns={4: \"TransportMode\"})\n",
    "    \n",
    "    labels_to_drop = list()\n",
    "    for idx, row in df_labels.iterrows():\n",
    "        if idx != 0:\n",
    "            if (df_labels.loc[idx - 1, 'EndTime'] - row['StartTime']).total_seconds() > 0:\n",
    "                labels_to_drop.append(idx - 1)\n",
    "\n",
    "    df_labels.drop(labels_to_drop, inplace=True)\n",
    "    df_labels.reset_index(drop=True, inplace=True)\n",
    "    \n",
    "    return df_trajectories, df_labels"
   ]
  },
  {
   "cell_type": "code",
   "execution_count": 104,
   "id": "afa2ce6e",
   "metadata": {},
   "outputs": [],
   "source": [
    "import math\n",
    "\n",
    "def haversine_distance(lat1, lon1, lat2, lon2):\n",
    "    # Convert coordinates to radians\n",
    "    lat1, lon1, lat2, lon2 = map(math.radians, [lat1, lon1, lat2, lon2])\n",
    "\n",
    "    # Haversine formula\n",
    "    dlat = lat2 - lat1\n",
    "    dlon = lon2 - lon1\n",
    "    a = math.sin(dlat / 2) ** 2 + math.cos(lat1) * math.cos(lat2) * math.sin(dlon / 2) ** 2\n",
    "    c = 2 * math.atan2(math.sqrt(a), math.sqrt(1 - a))\n",
    "    r = 6371 # radius of the Earth in kilometers\n",
    "    distance = r * c\n",
    "    return distance * 1000"
   ]
  },
  {
   "cell_type": "code",
   "execution_count": 105,
   "id": "a4b5ca3a",
   "metadata": {},
   "outputs": [],
   "source": [
    "from tqdm import tqdm\n",
    "\n",
    "def make_labeled_trajectories_data(trajectories, labels):\n",
    "    trip_end_row_idxs = list()\n",
    "\n",
    "    for idx in tqdm(range(len(labels.index))):\n",
    "        mask = (trajectories['DateTime'] >= labels.loc[idx, 'StartTime']) & (trajectories['DateTime'] <= labels.loc[idx, 'EndTime'])\n",
    "        df_trip = trajectories[mask]\n",
    "        trip_indices = df_trip.index\n",
    "\n",
    "        if (len(trip_indices) > 1):\n",
    "            trajectories.loc[trip_indices, 'TransportMode'] = labels.loc[idx, 'TransportMode']\n",
    "\n",
    "            if (not df_trip.iloc[0].equals(trajectories.iloc[0])):\n",
    "                if len(trip_end_row_idxs) == 0:\n",
    "                    trajectories.drop(list(range(0, trip_indices[0])), inplace=True)\n",
    "                else:\n",
    "                    trajectories.drop(list(range(trip_end_row_idxs[-1] + 1, trip_indices[0])), inplace=True)\n",
    "\n",
    "            trip_end_row_idxs.append(trip_indices[-1])\n",
    "\n",
    "    if len(trip_end_row_idxs) > 0:\n",
    "        trajectories.drop(list(range(trip_end_row_idxs[-1] + 1, trajectories.index[-1] + 1)), inplace=True)\n",
    "    \n",
    "        df_trajectories_sub = trajectories.iloc[1:]\n",
    "        trajectories.drop(trajectories.index[-1], inplace=True)\n",
    "        trajectories['LatEnd'] = df_trajectories_sub['Latitude'].tolist()\n",
    "        trajectories['LongEnd'] = df_trajectories_sub['Longitude'].tolist()\n",
    "        trajectories['AltEnd'] = df_trajectories_sub['Altitude'].tolist()\n",
    "        trajectories['TimeEnd'] = df_trajectories_sub['DateTime'].tolist()\n",
    "        trajectories.drop(trip_end_row_idxs[:-1], inplace=True)\n",
    "\n",
    "        trajectories['Altitude_avg'] = trajectories.apply(lambda row: float(row[2] + row[7]) / 2.0, axis=1)\n",
    "        trajectories['Duration(s)'] = trajectories.apply(lambda row: row[8] - row[3], axis=1)\n",
    "        trajectories[\"Duration(s)\"] = trajectories[\"Duration(s)\"].apply(lambda x: x.total_seconds())\n",
    "        trajectories.drop(trajectories[(trajectories['Duration(s)'] == 0) | (trajectories['Altitude'] == -777)].index, inplace=True)\n",
    "        trajectories['Distance(m)'] = trajectories.apply(lambda row: haversine_distance(row[0], row[1], row[5], row[6]), axis=1)\n",
    "        trajectories[\"Velocity(m/s)\"] = trajectories[\"Distance(m)\"] / trajectories[\"Duration(s)\"]\n",
    "        trajectories[\"Altitude_avg(m)\"] = trajectories[\"Altitude_avg\"] / 3.2808\n",
    "    \n",
    "        return trajectories.loc[:, [\"Distance(m)\", \"Duration(s)\", \"Velocity(m/s)\", \"Altitude_avg(m)\", \"TransportMode\"]]\n",
    "    \n",
    "    else:\n",
    "        \n",
    "        return pd.DataFrame()\n",
    "    "
   ]
  },
  {
   "cell_type": "code",
   "execution_count": 106,
   "id": "7f96d3cc",
   "metadata": {},
   "outputs": [
    {
     "name": "stdout",
     "output_type": "stream",
     "text": [
      "Processing User:  085\n"
     ]
    },
    {
     "name": "stderr",
     "output_type": "stream",
     "text": [
      "100%|██████████| 1275/1275 [01:17<00:00, 16.40it/s] \n"
     ]
    },
    {
     "name": "stdout",
     "output_type": "stream",
     "text": [
      "{'bus': [89859, 44.9295], 'car': [5542, 2.771], 'subway': [32010, 16.005], 'taxi': [1917, 0.9585], 'walk': [70257, 35.1285], 'bike': [415, 0.2075]}\n",
      "Processing User:  138\n"
     ]
    },
    {
     "name": "stderr",
     "output_type": "stream",
     "text": [
      "100%|██████████| 36/36 [00:00<00:00, 388.62it/s]\n"
     ]
    },
    {
     "name": "stdout",
     "output_type": "stream",
     "text": [
      "{'bike': [791, 49.4375], 'walk': [809, 50.5625]}\n",
      "Processing User:  096\n"
     ]
    },
    {
     "name": "stderr",
     "output_type": "stream",
     "text": [
      "100%|██████████| 112/112 [00:02<00:00, 40.39it/s]\n"
     ]
    },
    {
     "name": "stdout",
     "output_type": "stream",
     "text": [
      "{'walk': [8501, 20.670119386291244], 'bike': [28870, 70.19719405743186], 'subway': [2284, 5.553529311644419], 'bus': [1472, 3.5791572446324795]}\n",
      "Processing User:  056\n"
     ]
    },
    {
     "name": "stderr",
     "output_type": "stream",
     "text": [
      "100%|██████████| 33/33 [00:00<00:00, 351.30it/s]\n"
     ]
    },
    {
     "name": "stdout",
     "output_type": "stream",
     "text": [
      "{'bike': [735, 58.47255369928401], 'taxi': [158, 12.569610182975339], 'walk': [364, 28.957836117740655]}\n",
      "Processing User:  106\n"
     ]
    },
    {
     "name": "stderr",
     "output_type": "stream",
     "text": [
      "100%|██████████| 3/3 [00:00<00:00, 222.49it/s]\n"
     ]
    },
    {
     "name": "stdout",
     "output_type": "stream",
     "text": [
      "{'car': [1982, 100.0]}\n",
      "Processing User:  098\n"
     ]
    },
    {
     "name": "stderr",
     "output_type": "stream",
     "text": [
      "100%|██████████| 25/25 [00:00<00:00, 371.30it/s]\n"
     ]
    },
    {
     "name": "stdout",
     "output_type": "stream",
     "text": [
      "{'taxi': [278, 45.203252032520325], 'bike': [8, 1.3008130081300813], 'walk': [193, 31.382113821138212], 'bus': [101, 16.422764227642276], 'train': [35, 5.691056910569105]}\n",
      "Processing User:  060\n"
     ]
    },
    {
     "name": "stderr",
     "output_type": "stream",
     "text": [
      "100%|██████████| 2/2 [00:00<00:00, 284.78it/s]"
     ]
    },
    {
     "name": "stdout",
     "output_type": "stream",
     "text": [
      "{'walk': [15, 100.0]}\n",
      "Processing User:  141\n"
     ]
    },
    {
     "name": "stderr",
     "output_type": "stream",
     "text": [
      "\n",
      "100%|██████████| 103/103 [00:02<00:00, 35.31it/s]\n"
     ]
    },
    {
     "name": "stdout",
     "output_type": "stream",
     "text": [
      "{'walk': [48391, 74.80676477862973], 'subway': [1257, 1.943173386099431], 'bus': [15040, 23.250061835270838]}\n",
      "Processing User:  124\n"
     ]
    },
    {
     "name": "stderr",
     "output_type": "stream",
     "text": [
      "100%|██████████| 1/1 [00:00<00:00, 253.83it/s]"
     ]
    },
    {
     "name": "stdout",
     "output_type": "stream",
     "text": [
      "Processing User:  102\n"
     ]
    },
    {
     "name": "stderr",
     "output_type": "stream",
     "text": [
      "\n",
      "100%|██████████| 57/57 [00:00<00:00, 289.89it/s]\n"
     ]
    },
    {
     "name": "stdout",
     "output_type": "stream",
     "text": [
      "{'walk': [2866, 48.07918134541184], 'bus': [1314, 22.043281328636137], 'bike': [1506, 25.26421741318571], 'taxi': [275, 4.613319912766315]}\n",
      "Processing User:  128\n"
     ]
    },
    {
     "name": "stderr",
     "output_type": "stream",
     "text": [
      "100%|██████████| 935/935 [02:02<00:00,  7.63it/s]\n"
     ]
    },
    {
     "name": "stdout",
     "output_type": "stream",
     "text": [
      "{'car': [99240, 49.62], 'walk': [38834, 19.417], 'subway': [29787, 14.893500000000001], 'run': [614, 0.307], 'train': [4010, 2.005], 'bus': [4568, 2.284], 'taxi': [5584, 2.792], 'airplane': [2480, 1.24], 'bike': [14192, 7.095999999999999], 'boat': [691, 0.34550000000000003]}\n",
      "Processing User:  089\n"
     ]
    },
    {
     "name": "stderr",
     "output_type": "stream",
     "text": [
      "100%|██████████| 34/34 [00:00<00:00, 182.24it/s]\n"
     ]
    },
    {
     "name": "stdout",
     "output_type": "stream",
     "text": [
      "{'car': [15521, 87.95262650875503], 'walk': [2126, 12.04737349124497]}\n",
      "Processing User:  073\n"
     ]
    },
    {
     "name": "stderr",
     "output_type": "stream",
     "text": [
      "100%|██████████| 54/54 [00:00<00:00, 211.16it/s]\n"
     ]
    },
    {
     "name": "stdout",
     "output_type": "stream",
     "text": [
      "{'walk': [9898, 93.91782901603568], 'bus': [641, 6.082170983964323]}\n",
      "Processing User:  175\n"
     ]
    },
    {
     "name": "stderr",
     "output_type": "stream",
     "text": [
      "100%|██████████| 12/12 [00:00<00:00, 320.44it/s]"
     ]
    },
    {
     "name": "stdout",
     "output_type": "stream",
     "text": [
      "{'taxi': [59, 20.774647887323944], 'walk': [125, 44.014084507042256], 'bus': [98, 34.50704225352113], 'subway': [2, 0.7042253521126761]}\n",
      "Processing User:  126\n"
     ]
    },
    {
     "name": "stderr",
     "output_type": "stream",
     "text": [
      "\n",
      "100%|██████████| 460/460 [00:17<00:00, 26.74it/s]\n"
     ]
    },
    {
     "name": "stdout",
     "output_type": "stream",
     "text": [
      "{'walk': [83350, 41.675000000000004], 'bus': [45970, 22.985], 'train': [20471, 10.2355], 'car': [13741, 6.8705], 'bike': [31866, 15.933], 'taxi': [4396, 2.198], 'motorcycle': [147, 0.0735], 'subway': [59, 0.029500000000000002]}\n",
      "Processing User:  167\n"
     ]
    },
    {
     "name": "stderr",
     "output_type": "stream",
     "text": [
      "100%|██████████| 936/936 [00:51<00:00, 18.19it/s]\n"
     ]
    },
    {
     "name": "stdout",
     "output_type": "stream",
     "text": [
      "{'bike': [65957, 32.9785], 'walk': [56791, 28.395500000000002], 'train': [27677, 13.838500000000002], 'bus': [33549, 16.7745], 'car': [8324, 4.162], 'taxi': [6174, 3.087], 'subway': [1453, 0.7264999999999999], 'motorcycle': [75, 0.0375]}\n",
      "Processing User:  053\n"
     ]
    },
    {
     "name": "stderr",
     "output_type": "stream",
     "text": [
      "100%|██████████| 19/19 [00:00<00:00, 362.66it/s]"
     ]
    },
    {
     "name": "stdout",
     "output_type": "stream",
     "text": [
      "{'bus': [25, 9.057971014492754], 'walk': [193, 69.92753623188406], 'car': [58, 21.014492753623188]}\n",
      "Processing User:  091\n"
     ]
    },
    {
     "name": "stderr",
     "output_type": "stream",
     "text": [
      "\n",
      "100%|██████████| 169/169 [00:00<00:00, 511.78it/s]\n"
     ]
    },
    {
     "name": "stdout",
     "output_type": "stream",
     "text": [
      "{'bus': [120, 17.49271137026239], 'walk': [521, 75.94752186588921], 'train': [2, 0.2915451895043732], 'subway': [43, 6.2682215743440235]}\n",
      "Processing User:  154\n"
     ]
    },
    {
     "name": "stderr",
     "output_type": "stream",
     "text": [
      "100%|██████████| 54/54 [00:00<00:00, 320.89it/s]\n"
     ]
    },
    {
     "name": "stdout",
     "output_type": "stream",
     "text": [
      "{'taxi': [150, 5.9008654602675055], 'bus': [199, 7.8284815106215575], 'walk': [1733, 68.17466561762392], 'car': [276, 10.85759244689221], 'bike': [184, 7.238394964594807]}\n",
      "Processing User:  010\n"
     ]
    },
    {
     "name": "stderr",
     "output_type": "stream",
     "text": [
      "100%|██████████| 434/434 [00:40<00:00, 10.75it/s]\n"
     ]
    },
    {
     "name": "stdout",
     "output_type": "stream",
     "text": [
      "{'train': [138111, 69.05550000000001], 'taxi': [21880, 10.94], 'bus': [14505, 7.2525], 'subway': [8598, 4.299], 'walk': [15347, 7.6735], 'car': [1009, 0.5045], 'airplane': [550, 0.27499999999999997]}\n"
     ]
    }
   ],
   "source": [
    "import random\n",
    "from collections import Counter\n",
    "\n",
    "random.seed(123)\n",
    "\n",
    "total_dataset_size = 1000000\n",
    "max_data_per_user = 200000\n",
    "curr_dataset_size = 0\n",
    "users_visited = list()\n",
    "\n",
    "list_dfs = list()\n",
    "\n",
    "while curr_dataset_size < total_dataset_size:\n",
    "    if max_data_per_user > (total_dataset_size - curr_dataset_size):\n",
    "        max_data_per_user = total_dataset_size - curr_dataset_size\n",
    "    \n",
    "    random_user = random.choice(directory_content)\n",
    "    directory_content.remove(random_user)\n",
    "    users_visited.append(random_user)\n",
    "    print('Processing User: ', random_user)\n",
    "    \n",
    "    df_trajectories, df_labels = get_trajecotries_and_labels_datasets('Data/' + random_user + '/')\n",
    "    df_labeled_trajectories = make_labeled_trajectories_data(df_trajectories, df_labels)\n",
    "    user_data_length = len(df_labeled_trajectories)\n",
    "        \n",
    "    if user_data_length > 0:\n",
    "\n",
    "        if user_data_length > max_data_per_user:\n",
    "            df_samples = df_labeled_trajectories.sample(n=200000)\n",
    "            list_dfs.append(df_samples)\n",
    "            curr_dataset_size += 200000\n",
    "\n",
    "            transport_modes = df_samples['TransportMode']\n",
    "            modes_count = dict(Counter(transport_modes))\n",
    "            modes_percentage = dict()\n",
    "            for key, val in modes_count.items():\n",
    "                modes_percentage[key] = val / len(transport_modes) * 100\n",
    "            modes_analytics = {key: [modes_count[key], modes_percentage[key]] for key in modes_count}\n",
    "            print(modes_analytics)\n",
    "        else:\n",
    "            list_dfs.append(df_labeled_trajectories)\n",
    "            curr_dataset_size += user_data_length\n",
    "\n",
    "            transport_modes = df_labeled_trajectories['TransportMode']\n",
    "            modes_count = dict(Counter(transport_modes))\n",
    "            modes_percentage = dict()\n",
    "            for key, val in modes_count.items():\n",
    "                modes_percentage[key] = val / len(transport_modes) * 100\n",
    "            modes_analytics = {key: [modes_count[key], modes_percentage[key]] for key in modes_count}\n",
    "            print(modes_analytics)\n",
    "    \n",
    "    \n",
    "    "
   ]
  },
  {
   "cell_type": "code",
   "execution_count": 111,
   "id": "6f6d487f",
   "metadata": {},
   "outputs": [],
   "source": [
    "final_trajectories = pd.concat(list_dfs, ignore_index=True)"
   ]
  },
  {
   "cell_type": "code",
   "execution_count": 112,
   "id": "5e1a8128",
   "metadata": {},
   "outputs": [
    {
     "data": {
      "text/html": [
       "<div>\n",
       "<style scoped>\n",
       "    .dataframe tbody tr th:only-of-type {\n",
       "        vertical-align: middle;\n",
       "    }\n",
       "\n",
       "    .dataframe tbody tr th {\n",
       "        vertical-align: top;\n",
       "    }\n",
       "\n",
       "    .dataframe thead th {\n",
       "        text-align: right;\n",
       "    }\n",
       "</style>\n",
       "<table border=\"1\" class=\"dataframe\">\n",
       "  <thead>\n",
       "    <tr style=\"text-align: right;\">\n",
       "      <th></th>\n",
       "      <th>Distance(m)</th>\n",
       "      <th>Duration(s)</th>\n",
       "      <th>Velocity(m/s)</th>\n",
       "      <th>Altitude_avg(m)</th>\n",
       "      <th>TransportMode</th>\n",
       "    </tr>\n",
       "  </thead>\n",
       "  <tbody>\n",
       "    <tr>\n",
       "      <th>0</th>\n",
       "      <td>2.352338</td>\n",
       "      <td>5.0</td>\n",
       "      <td>0.470468</td>\n",
       "      <td>37.033650</td>\n",
       "      <td>bus</td>\n",
       "    </tr>\n",
       "    <tr>\n",
       "      <th>1</th>\n",
       "      <td>19.703794</td>\n",
       "      <td>2.0</td>\n",
       "      <td>9.851897</td>\n",
       "      <td>22.098269</td>\n",
       "      <td>car</td>\n",
       "    </tr>\n",
       "    <tr>\n",
       "      <th>2</th>\n",
       "      <td>15.366449</td>\n",
       "      <td>2.0</td>\n",
       "      <td>7.683225</td>\n",
       "      <td>102.261644</td>\n",
       "      <td>bus</td>\n",
       "    </tr>\n",
       "    <tr>\n",
       "      <th>3</th>\n",
       "      <td>3.633798</td>\n",
       "      <td>5.0</td>\n",
       "      <td>0.726760</td>\n",
       "      <td>32.613997</td>\n",
       "      <td>bus</td>\n",
       "    </tr>\n",
       "    <tr>\n",
       "      <th>4</th>\n",
       "      <td>0.344299</td>\n",
       "      <td>2.0</td>\n",
       "      <td>0.172149</td>\n",
       "      <td>53.950256</td>\n",
       "      <td>bus</td>\n",
       "    </tr>\n",
       "    <tr>\n",
       "      <th>...</th>\n",
       "      <td>...</td>\n",
       "      <td>...</td>\n",
       "      <td>...</td>\n",
       "      <td>...</td>\n",
       "      <td>...</td>\n",
       "    </tr>\n",
       "    <tr>\n",
       "      <th>1149214</th>\n",
       "      <td>5.209176</td>\n",
       "      <td>1.0</td>\n",
       "      <td>5.209176</td>\n",
       "      <td>54.864667</td>\n",
       "      <td>taxi</td>\n",
       "    </tr>\n",
       "    <tr>\n",
       "      <th>1149215</th>\n",
       "      <td>28.433548</td>\n",
       "      <td>1.0</td>\n",
       "      <td>28.433548</td>\n",
       "      <td>49.378200</td>\n",
       "      <td>train</td>\n",
       "    </tr>\n",
       "    <tr>\n",
       "      <th>1149216</th>\n",
       "      <td>29.896226</td>\n",
       "      <td>1.0</td>\n",
       "      <td>29.896226</td>\n",
       "      <td>677.426238</td>\n",
       "      <td>train</td>\n",
       "    </tr>\n",
       "    <tr>\n",
       "      <th>1149217</th>\n",
       "      <td>0.375776</td>\n",
       "      <td>1.0</td>\n",
       "      <td>0.375776</td>\n",
       "      <td>-17.983419</td>\n",
       "      <td>train</td>\n",
       "    </tr>\n",
       "    <tr>\n",
       "      <th>1149218</th>\n",
       "      <td>8.520395</td>\n",
       "      <td>1.0</td>\n",
       "      <td>8.520395</td>\n",
       "      <td>19.507437</td>\n",
       "      <td>taxi</td>\n",
       "    </tr>\n",
       "  </tbody>\n",
       "</table>\n",
       "<p>1149219 rows × 5 columns</p>\n",
       "</div>"
      ],
      "text/plain": [
       "         Distance(m)  Duration(s)  Velocity(m/s)  Altitude_avg(m)  \\\n",
       "0           2.352338          5.0       0.470468        37.033650   \n",
       "1          19.703794          2.0       9.851897        22.098269   \n",
       "2          15.366449          2.0       7.683225       102.261644   \n",
       "3           3.633798          5.0       0.726760        32.613997   \n",
       "4           0.344299          2.0       0.172149        53.950256   \n",
       "...              ...          ...            ...              ...   \n",
       "1149214     5.209176          1.0       5.209176        54.864667   \n",
       "1149215    28.433548          1.0      28.433548        49.378200   \n",
       "1149216    29.896226          1.0      29.896226       677.426238   \n",
       "1149217     0.375776          1.0       0.375776       -17.983419   \n",
       "1149218     8.520395          1.0       8.520395        19.507437   \n",
       "\n",
       "        TransportMode  \n",
       "0                 bus  \n",
       "1                 car  \n",
       "2                 bus  \n",
       "3                 bus  \n",
       "4                 bus  \n",
       "...               ...  \n",
       "1149214          taxi  \n",
       "1149215         train  \n",
       "1149216         train  \n",
       "1149217         train  \n",
       "1149218          taxi  \n",
       "\n",
       "[1149219 rows x 5 columns]"
      ]
     },
     "execution_count": 112,
     "metadata": {},
     "output_type": "execute_result"
    }
   ],
   "source": [
    "final_trajectories"
   ]
  },
  {
   "cell_type": "code",
   "execution_count": 113,
   "id": "38fa1159",
   "metadata": {},
   "outputs": [
    {
     "name": "stdout",
     "output_type": "stream",
     "text": [
      "{'bus': [207461, 18.05234685469001], 'car': [145693, 12.677566242813597], 'subway': [75493, 6.569069950984104], 'taxi': [40871, 3.55641526984848], 'walk': [340314, 29.612632579168984], 'bike': [144524, 12.575844986899797], 'train': [190306, 16.559593950326263], 'run': [614, 0.053427588649334896], 'airplane': [3030, 0.26365731857896535], 'boat': [691, 0.06012779113467494], 'motorcycle': [222, 0.01931746690578558]}\n"
     ]
    }
   ],
   "source": [
    "transport_modes = combined_trajectories['TransportMode']\n",
    "modes_count = dict(Counter(transport_modes))\n",
    "modes_percentage = dict()\n",
    "for key, val in modes_count.items():\n",
    "    modes_percentage[key] = val / len(transport_modes) * 100\n",
    "modes_analytics = {key: [modes_count[key], modes_percentage[key]] for key in modes_count}\n",
    "print(modes_analytics)"
   ]
  },
  {
   "cell_type": "code",
   "execution_count": 114,
   "id": "f5030acf",
   "metadata": {},
   "outputs": [],
   "source": [
    "final_trajectories.to_csv('./labeled_data/final_traj.csv')"
   ]
  }
 ],
 "metadata": {
  "kernelspec": {
   "display_name": "Python 3",
   "language": "python",
   "name": "python3"
  },
  "language_info": {
   "codemirror_mode": {
    "name": "ipython",
    "version": 3
   },
   "file_extension": ".py",
   "mimetype": "text/x-python",
   "name": "python",
   "nbconvert_exporter": "python",
   "pygments_lexer": "ipython3",
   "version": "3.6.8"
  }
 },
 "nbformat": 4,
 "nbformat_minor": 5
}
