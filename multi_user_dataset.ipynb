{
 "cells": [
  {
   "cell_type": "code",
   "execution_count": 1,
   "id": "f970e224",
   "metadata": {},
   "outputs": [],
   "source": [
    "import os\n",
    "\n",
    "directory_path = './Data/'\n",
    "directory_content = os.listdir(directory_path)\n",
    "if '.DS_Store' in directory_content:\n",
    "    directory_content.remove('.DS_Store')\n"
   ]
  },
  {
   "cell_type": "code",
   "execution_count": 2,
   "id": "03107b64",
   "metadata": {},
   "outputs": [],
   "source": [
    "import pandas as pd\n",
    "\n",
    "def get_trajecotries_and_labels_datasets(user_path):\n",
    "    ## Get trajectories Dataset\n",
    "    df_trajectories = pd.read_csv(user_path + 'trajectories.csv',\n",
    "                                  names=['Latitude', 'Longitude', '0', 'Altitude', 'Date', 'Date_str', 'Time_str'],\n",
    "                                  parse_dates=True)\n",
    "    df_trajectories['DateTime'] = df_trajectories['Date_str'] + ' ' + df_trajectories['Time_str']\n",
    "    df_trajectories['DateTime'] = pd.to_datetime(df_trajectories['DateTime'])\n",
    "    df_trajectories = df_trajectories.drop(columns=['Date_str', 'Time_str', '0', 'Date'])\n",
    "\n",
    "    ## Get Labels Dataset\n",
    "    df_labels = pd.read_csv(user_path + 'labels.txt', delim_whitespace=True, skiprows=1, header=None)\n",
    "    df_labels['StartTime'] = df_labels[0] + ' ' + df_labels[1]\n",
    "    df_labels['EndTime'] = df_labels[2] + ' ' + df_labels[3]\n",
    "    df_labels['StartTime'] = pd.to_datetime(df_labels['StartTime'])\n",
    "    df_labels['EndTime'] = pd.to_datetime(df_labels['EndTime'])\n",
    "    df_labels = df_labels.drop(columns=[0, 1, 2, 3])\n",
    "    df_labels = df_labels.rename(columns={4: \"TransportMode\"})\n",
    "    \n",
    "    labels_to_drop = list()\n",
    "    for idx, row in df_labels.iterrows():\n",
    "        if idx != 0:\n",
    "            if (df_labels.loc[idx - 1, 'EndTime'] - row['StartTime']).total_seconds() > 0:\n",
    "                labels_to_drop.append(idx - 1)\n",
    "\n",
    "    df_labels.drop(labels_to_drop, inplace=True)\n",
    "    df_labels.reset_index(drop=True, inplace=True)\n",
    "    \n",
    "    return df_trajectories, df_labels"
   ]
  },
  {
   "cell_type": "code",
   "execution_count": 3,
   "id": "afa2ce6e",
   "metadata": {},
   "outputs": [],
   "source": [
    "import math\n",
    "\n",
    "def haversine_distance(lat1, lon1, lat2, lon2):\n",
    "    # Convert coordinates to radians\n",
    "    lat1, lon1, lat2, lon2 = map(math.radians, [lat1, lon1, lat2, lon2])\n",
    "\n",
    "    # Haversine formula\n",
    "    dlat = lat2 - lat1\n",
    "    dlon = lon2 - lon1\n",
    "    a = math.sin(dlat / 2) ** 2 + math.cos(lat1) * math.cos(lat2) * math.sin(dlon / 2) ** 2\n",
    "    c = 2 * math.atan2(math.sqrt(a), math.sqrt(1 - a))\n",
    "    r = 6371 # radius of the Earth in kilometers\n",
    "    distance = r * c\n",
    "    return distance * 1000"
   ]
  },
  {
   "cell_type": "code",
   "execution_count": 4,
   "id": "a4b5ca3a",
   "metadata": {},
   "outputs": [],
   "source": [
    "from tqdm import tqdm\n",
    "\n",
    "def make_labeled_trajectories_data(trajectories, labels):\n",
    "    trip_end_row_idxs = list()\n",
    "\n",
    "    for idx in tqdm(range(len(labels.index))):\n",
    "        mask = (trajectories['DateTime'] >= labels.loc[idx, 'StartTime']) & (trajectories['DateTime'] <= labels.loc[idx, 'EndTime'])\n",
    "        df_trip = trajectories[mask]\n",
    "        trip_indices = df_trip.index\n",
    "\n",
    "        if (len(trip_indices) > 1):\n",
    "            trajectories.loc[trip_indices, 'TransportMode'] = labels.loc[idx, 'TransportMode']\n",
    "\n",
    "            if (not df_trip.iloc[0].equals(trajectories.iloc[0])):\n",
    "                if len(trip_end_row_idxs) == 0:\n",
    "                    trajectories.drop(list(range(0, trip_indices[0])), inplace=True)\n",
    "                else:\n",
    "                    trajectories.drop(list(range(trip_end_row_idxs[-1] + 1, trip_indices[0])), inplace=True)\n",
    "\n",
    "            trip_end_row_idxs.append(trip_indices[-1])\n",
    "\n",
    "    if len(trip_end_row_idxs) > 0:\n",
    "        trajectories.drop(list(range(trip_end_row_idxs[-1] + 1, trajectories.index[-1] + 1)), inplace=True)\n",
    "    \n",
    "        df_trajectories_sub = trajectories.iloc[1:]\n",
    "        trajectories.drop(trajectories.index[-1], inplace=True)\n",
    "        trajectories['LatEnd'] = df_trajectories_sub['Latitude'].tolist()\n",
    "        trajectories['LongEnd'] = df_trajectories_sub['Longitude'].tolist()\n",
    "        trajectories['AltEnd'] = df_trajectories_sub['Altitude'].tolist()\n",
    "        trajectories['TimeEnd'] = df_trajectories_sub['DateTime'].tolist()\n",
    "        trajectories.drop(trip_end_row_idxs[:-1], inplace=True)\n",
    "\n",
    "        trajectories['Altitude_avg'] = trajectories.apply(lambda row: float(row[2] + row[7]) / 2.0, axis=1)\n",
    "        trajectories['Duration(s)'] = trajectories.apply(lambda row: row[8] - row[3], axis=1)\n",
    "        trajectories[\"Duration(s)\"] = trajectories[\"Duration(s)\"].apply(lambda x: x.total_seconds())\n",
    "        trajectories.drop(trajectories[(trajectories['Duration(s)'] == 0) | (trajectories['Altitude'] == -777)].index, inplace=True)\n",
    "        trajectories['Distance(m)'] = trajectories.apply(lambda row: haversine_distance(row[0], row[1], row[5], row[6]), axis=1)\n",
    "        trajectories[\"Velocity(m/s)\"] = trajectories[\"Distance(m)\"] / trajectories[\"Duration(s)\"]\n",
    "        trajectories[\"Altitude_avg(m)\"] = trajectories[\"Altitude_avg\"] / 3.2808\n",
    "    \n",
    "        return trajectories.loc[:, [\"Distance(m)\", \"Duration(s)\", \"Velocity(m/s)\", \"Altitude_avg(m)\", \"TransportMode\"]]\n",
    "    \n",
    "    else:\n",
    "        \n",
    "        return pd.DataFrame()\n",
    "    "
   ]
  },
  {
   "cell_type": "code",
   "execution_count": 5,
   "id": "7f96d3cc",
   "metadata": {},
   "outputs": [
    {
     "name": "stdout",
     "output_type": "stream",
     "text": [
      "Processing User:  085\n"
     ]
    },
    {
     "name": "stderr",
     "output_type": "stream",
     "text": [
      "100%|██████████| 1275/1275 [00:42<00:00, 30.27it/s] \n"
     ]
    },
    {
     "name": "stdout",
     "output_type": "stream",
     "text": [
      "{'bus': [89863, 44.9315], 'subway': [32287, 16.1435], 'walk': [70096, 35.048], 'car': [5518, 2.759], 'bike': [407, 0.2035], 'taxi': [1829, 0.9145000000000001]}\n",
      "Processing User:  138\n"
     ]
    },
    {
     "name": "stderr",
     "output_type": "stream",
     "text": [
      "100%|██████████| 36/36 [00:00<00:00, 382.73it/s]\n"
     ]
    },
    {
     "name": "stdout",
     "output_type": "stream",
     "text": [
      "{'bike': [791, 49.4375], 'walk': [809, 50.5625]}\n",
      "Processing User:  096\n"
     ]
    },
    {
     "name": "stderr",
     "output_type": "stream",
     "text": [
      "100%|██████████| 112/112 [00:02<00:00, 54.85it/s]\n"
     ]
    },
    {
     "name": "stdout",
     "output_type": "stream",
     "text": [
      "{'walk': [8501, 20.670119386291244], 'bike': [28870, 70.19719405743186], 'subway': [2284, 5.553529311644419], 'bus': [1472, 3.5791572446324795]}\n",
      "Processing User:  056\n"
     ]
    },
    {
     "name": "stderr",
     "output_type": "stream",
     "text": [
      "100%|██████████| 33/33 [00:00<00:00, 347.54it/s]"
     ]
    },
    {
     "name": "stdout",
     "output_type": "stream",
     "text": [
      "{'bike': [693, 57.84641068447412], 'taxi': [146, 12.186978297161936], 'walk': [359, 29.966611018363942]}\n",
      "Processing User:  106\n"
     ]
    },
    {
     "name": "stderr",
     "output_type": "stream",
     "text": [
      "\n",
      "100%|██████████| 3/3 [00:00<00:00, 228.36it/s]\n"
     ]
    },
    {
     "name": "stdout",
     "output_type": "stream",
     "text": [
      "{'car': [1982, 100.0]}\n",
      "Processing User:  098\n"
     ]
    },
    {
     "name": "stderr",
     "output_type": "stream",
     "text": [
      "100%|██████████| 25/25 [00:00<00:00, 263.84it/s]\n"
     ]
    },
    {
     "name": "stdout",
     "output_type": "stream",
     "text": [
      "{'taxi': [278, 45.203252032520325], 'bike': [8, 1.3008130081300813], 'walk': [193, 31.382113821138212], 'bus': [101, 16.422764227642276], 'train': [35, 5.691056910569105]}\n",
      "Processing User:  060\n"
     ]
    },
    {
     "name": "stderr",
     "output_type": "stream",
     "text": [
      "100%|██████████| 2/2 [00:00<00:00, 417.01it/s]\n"
     ]
    },
    {
     "name": "stdout",
     "output_type": "stream",
     "text": [
      "Processing User:  141\n"
     ]
    },
    {
     "name": "stderr",
     "output_type": "stream",
     "text": [
      "100%|██████████| 103/103 [00:01<00:00, 56.63it/s]\n"
     ]
    },
    {
     "name": "stdout",
     "output_type": "stream",
     "text": [
      "{'walk': [48278, 74.77425849918686], 'subway': [1257, 1.946875242004182], 'bus': [15030, 23.278866258808954]}\n",
      "Processing User:  124\n"
     ]
    },
    {
     "name": "stderr",
     "output_type": "stream",
     "text": [
      "100%|██████████| 1/1 [00:00<00:00, 239.52it/s]"
     ]
    },
    {
     "name": "stdout",
     "output_type": "stream",
     "text": [
      "Processing User:  102\n"
     ]
    },
    {
     "name": "stderr",
     "output_type": "stream",
     "text": [
      "\n",
      "100%|██████████| 57/57 [00:00<00:00, 322.10it/s]\n"
     ]
    },
    {
     "name": "stdout",
     "output_type": "stream",
     "text": [
      "{'walk': [2866, 48.07918134541184], 'bus': [1314, 22.043281328636137], 'bike': [1506, 25.26421741318571], 'taxi': [275, 4.613319912766315]}\n",
      "Processing User:  128\n"
     ]
    },
    {
     "name": "stderr",
     "output_type": "stream",
     "text": [
      "100%|██████████| 935/935 [01:25<00:00, 10.96it/s]\n"
     ]
    },
    {
     "name": "stdout",
     "output_type": "stream",
     "text": [
      "{'car': [99372, 49.686], 'subway': [29653, 14.826500000000001], 'bike': [14116, 7.058000000000001], 'walk': [38949, 19.4745], 'boat': [680, 0.33999999999999997], 'train': [3972, 1.986], 'taxi': [5494, 2.7470000000000003], 'bus': [4616, 2.308], 'airplane': [2505, 1.2525], 'run': [643, 0.3215]}\n",
      "Processing User:  089\n"
     ]
    },
    {
     "name": "stderr",
     "output_type": "stream",
     "text": [
      "100%|██████████| 34/34 [00:00<00:00, 249.56it/s]\n"
     ]
    },
    {
     "name": "stdout",
     "output_type": "stream",
     "text": [
      "{'car': [15521, 87.95262650875503], 'walk': [2126, 12.04737349124497]}\n",
      "Processing User:  073\n"
     ]
    },
    {
     "name": "stderr",
     "output_type": "stream",
     "text": [
      "100%|██████████| 54/54 [00:00<00:00, 243.62it/s]\n"
     ]
    },
    {
     "name": "stdout",
     "output_type": "stream",
     "text": [
      "{'walk': [9898, 93.91782901603568], 'bus': [641, 6.082170983964323]}\n",
      "Processing User:  175\n"
     ]
    },
    {
     "name": "stderr",
     "output_type": "stream",
     "text": [
      "100%|██████████| 12/12 [00:00<00:00, 368.50it/s]"
     ]
    },
    {
     "name": "stdout",
     "output_type": "stream",
     "text": [
      "{'taxi': [59, 20.774647887323944], 'walk': [125, 44.014084507042256], 'bus': [98, 34.50704225352113], 'subway': [2, 0.7042253521126761]}\n",
      "Processing User:  126\n"
     ]
    },
    {
     "name": "stderr",
     "output_type": "stream",
     "text": [
      "\n",
      "100%|██████████| 460/460 [00:13<00:00, 34.01it/s]\n"
     ]
    },
    {
     "name": "stdout",
     "output_type": "stream",
     "text": [
      "{'bus': [46004, 23.002], 'walk': [83364, 41.682], 'train': [20543, 10.2715], 'bike': [31757, 15.8785], 'car': [13717, 6.858499999999999], 'taxi': [4406, 2.2030000000000003], 'subway': [60, 0.03], 'motorcycle': [149, 0.0745]}\n",
      "Processing User:  167\n"
     ]
    },
    {
     "name": "stderr",
     "output_type": "stream",
     "text": [
      "100%|██████████| 936/936 [00:38<00:00, 24.35it/s]\n"
     ]
    },
    {
     "name": "stdout",
     "output_type": "stream",
     "text": [
      "{'walk': [56749, 28.3745], 'bike': [65951, 32.975500000000004], 'bus': [33813, 16.906499999999998], 'train': [27460, 13.73], 'taxi': [6211, 3.1055], 'car': [8251, 4.1255], 'subway': [1489, 0.7445], 'motorcycle': [76, 0.038]}\n",
      "Processing User:  053\n"
     ]
    },
    {
     "name": "stderr",
     "output_type": "stream",
     "text": [
      "100%|██████████| 19/19 [00:00<00:00, 319.68it/s]"
     ]
    },
    {
     "name": "stdout",
     "output_type": "stream",
     "text": [
      "{'bus': [25, 9.057971014492754], 'walk': [193, 69.92753623188406], 'car': [58, 21.014492753623188]}\n",
      "Processing User:  091\n"
     ]
    },
    {
     "name": "stderr",
     "output_type": "stream",
     "text": [
      "\n",
      "100%|██████████| 169/169 [00:00<00:00, 190.20it/s]\n"
     ]
    },
    {
     "name": "stdout",
     "output_type": "stream",
     "text": [
      "{'bus': [120, 17.49271137026239], 'walk': [521, 75.94752186588921], 'train': [2, 0.2915451895043732], 'subway': [43, 6.2682215743440235]}\n",
      "Processing User:  154\n"
     ]
    },
    {
     "name": "stderr",
     "output_type": "stream",
     "text": [
      "100%|██████████| 54/54 [00:00<00:00, 242.59it/s]\n"
     ]
    },
    {
     "name": "stdout",
     "output_type": "stream",
     "text": [
      "{'taxi': [150, 5.9008654602675055], 'bus': [199, 7.8284815106215575], 'walk': [1733, 68.17466561762392], 'car': [276, 10.85759244689221], 'bike': [184, 7.238394964594807]}\n",
      "Processing User:  010\n"
     ]
    },
    {
     "name": "stderr",
     "output_type": "stream",
     "text": [
      "100%|██████████| 434/434 [00:34<00:00, 12.71it/s]\n"
     ]
    },
    {
     "name": "stdout",
     "output_type": "stream",
     "text": [
      "{'train': [138042, 69.021], 'taxi': [21685, 10.8425], 'subway': [8554, 4.277], 'walk': [15577, 7.7885], 'bus': [14597, 7.2985], 'car': [1010, 0.505], 'airplane': [535, 0.26749999999999996]}\n"
     ]
    }
   ],
   "source": [
    "import random\n",
    "from collections import Counter\n",
    "\n",
    "random.seed(123)\n",
    "\n",
    "total_dataset_size = 1000000\n",
    "max_data_per_user = 200000\n",
    "curr_dataset_size = 0\n",
    "users_visited = list()\n",
    "\n",
    "list_dfs = list()\n",
    "\n",
    "while curr_dataset_size < total_dataset_size:\n",
    "    if max_data_per_user > (total_dataset_size - curr_dataset_size):\n",
    "        max_data_per_user = total_dataset_size - curr_dataset_size\n",
    "    \n",
    "    random_user = random.choice(directory_content)\n",
    "    directory_content.remove(random_user)\n",
    "    users_visited.append(random_user)\n",
    "    print('Processing User: ', random_user)\n",
    "    \n",
    "    df_trajectories, df_labels = get_trajecotries_and_labels_datasets('Data/' + random_user + '/')\n",
    "    df_labeled_trajectories = make_labeled_trajectories_data(df_trajectories, df_labels)\n",
    "    user_data_length = len(df_labeled_trajectories)\n",
    "        \n",
    "    if user_data_length > 0:\n",
    "\n",
    "        if user_data_length > max_data_per_user:\n",
    "            df_samples = df_labeled_trajectories.sample(n=200000)\n",
    "            list_dfs.append(df_samples)\n",
    "            curr_dataset_size += 200000\n",
    "\n",
    "            transport_modes = df_samples['TransportMode']\n",
    "            modes_count = dict(Counter(transport_modes))\n",
    "            modes_percentage = dict()\n",
    "            for key, val in modes_count.items():\n",
    "                modes_percentage[key] = val / len(transport_modes) * 100\n",
    "            modes_analytics = {key: [modes_count[key], modes_percentage[key]] for key in modes_count}\n",
    "            print(modes_analytics)\n",
    "        else:\n",
    "            list_dfs.append(df_labeled_trajectories)\n",
    "            curr_dataset_size += user_data_length\n",
    "\n",
    "            transport_modes = df_labeled_trajectories['TransportMode']\n",
    "            modes_count = dict(Counter(transport_modes))\n",
    "            modes_percentage = dict()\n",
    "            for key, val in modes_count.items():\n",
    "                modes_percentage[key] = val / len(transport_modes) * 100\n",
    "            modes_analytics = {key: [modes_count[key], modes_percentage[key]] for key in modes_count}\n",
    "            print(modes_analytics)\n",
    "    \n",
    "    \n",
    "    "
   ]
  },
  {
   "cell_type": "code",
   "execution_count": 6,
   "id": "6f6d487f",
   "metadata": {},
   "outputs": [],
   "source": [
    "final_trajectories = pd.concat(list_dfs, ignore_index=True)"
   ]
  },
  {
   "cell_type": "code",
   "execution_count": 7,
   "id": "5e1a8128",
   "metadata": {},
   "outputs": [
    {
     "data": {
      "text/html": [
       "<div>\n",
       "<style scoped>\n",
       "    .dataframe tbody tr th:only-of-type {\n",
       "        vertical-align: middle;\n",
       "    }\n",
       "\n",
       "    .dataframe tbody tr th {\n",
       "        vertical-align: top;\n",
       "    }\n",
       "\n",
       "    .dataframe thead th {\n",
       "        text-align: right;\n",
       "    }\n",
       "</style>\n",
       "<table border=\"1\" class=\"dataframe\">\n",
       "  <thead>\n",
       "    <tr style=\"text-align: right;\">\n",
       "      <th></th>\n",
       "      <th>Distance(m)</th>\n",
       "      <th>Duration(s)</th>\n",
       "      <th>Velocity(m/s)</th>\n",
       "      <th>Altitude_avg(m)</th>\n",
       "      <th>TransportMode</th>\n",
       "    </tr>\n",
       "  </thead>\n",
       "  <tbody>\n",
       "    <tr>\n",
       "      <th>0</th>\n",
       "      <td>48.768254</td>\n",
       "      <td>5.0</td>\n",
       "      <td>9.753651</td>\n",
       "      <td>147.220190</td>\n",
       "      <td>bus</td>\n",
       "    </tr>\n",
       "    <tr>\n",
       "      <th>1</th>\n",
       "      <td>0.085222</td>\n",
       "      <td>2.0</td>\n",
       "      <td>0.042611</td>\n",
       "      <td>24.079493</td>\n",
       "      <td>bus</td>\n",
       "    </tr>\n",
       "    <tr>\n",
       "      <th>2</th>\n",
       "      <td>26.096515</td>\n",
       "      <td>1.0</td>\n",
       "      <td>26.096515</td>\n",
       "      <td>105.919288</td>\n",
       "      <td>subway</td>\n",
       "    </tr>\n",
       "    <tr>\n",
       "      <th>3</th>\n",
       "      <td>2.341303</td>\n",
       "      <td>2.0</td>\n",
       "      <td>1.170652</td>\n",
       "      <td>47.549378</td>\n",
       "      <td>walk</td>\n",
       "    </tr>\n",
       "    <tr>\n",
       "      <th>4</th>\n",
       "      <td>2.249866</td>\n",
       "      <td>2.0</td>\n",
       "      <td>1.124933</td>\n",
       "      <td>33.223604</td>\n",
       "      <td>walk</td>\n",
       "    </tr>\n",
       "    <tr>\n",
       "      <th>...</th>\n",
       "      <td>...</td>\n",
       "      <td>...</td>\n",
       "      <td>...</td>\n",
       "      <td>...</td>\n",
       "      <td>...</td>\n",
       "    </tr>\n",
       "    <tr>\n",
       "      <th>1149017</th>\n",
       "      <td>20.418209</td>\n",
       "      <td>1.0</td>\n",
       "      <td>20.418209</td>\n",
       "      <td>1.524019</td>\n",
       "      <td>train</td>\n",
       "    </tr>\n",
       "    <tr>\n",
       "      <th>1149018</th>\n",
       "      <td>18.119181</td>\n",
       "      <td>1.0</td>\n",
       "      <td>18.119181</td>\n",
       "      <td>3283.955133</td>\n",
       "      <td>train</td>\n",
       "    </tr>\n",
       "    <tr>\n",
       "      <th>1149019</th>\n",
       "      <td>29.091872</td>\n",
       "      <td>1.0</td>\n",
       "      <td>29.091872</td>\n",
       "      <td>2050.109729</td>\n",
       "      <td>train</td>\n",
       "    </tr>\n",
       "    <tr>\n",
       "      <th>1149020</th>\n",
       "      <td>66.686709</td>\n",
       "      <td>1.0</td>\n",
       "      <td>66.686709</td>\n",
       "      <td>52.578639</td>\n",
       "      <td>train</td>\n",
       "    </tr>\n",
       "    <tr>\n",
       "      <th>1149021</th>\n",
       "      <td>45.484613</td>\n",
       "      <td>1.0</td>\n",
       "      <td>45.484613</td>\n",
       "      <td>39.014874</td>\n",
       "      <td>train</td>\n",
       "    </tr>\n",
       "  </tbody>\n",
       "</table>\n",
       "<p>1149022 rows × 5 columns</p>\n",
       "</div>"
      ],
      "text/plain": [
       "         Distance(m)  Duration(s)  Velocity(m/s)  Altitude_avg(m)  \\\n",
       "0          48.768254          5.0       9.753651       147.220190   \n",
       "1           0.085222          2.0       0.042611        24.079493   \n",
       "2          26.096515          1.0      26.096515       105.919288   \n",
       "3           2.341303          2.0       1.170652        47.549378   \n",
       "4           2.249866          2.0       1.124933        33.223604   \n",
       "...              ...          ...            ...              ...   \n",
       "1149017    20.418209          1.0      20.418209         1.524019   \n",
       "1149018    18.119181          1.0      18.119181      3283.955133   \n",
       "1149019    29.091872          1.0      29.091872      2050.109729   \n",
       "1149020    66.686709          1.0      66.686709        52.578639   \n",
       "1149021    45.484613          1.0      45.484613        39.014874   \n",
       "\n",
       "        TransportMode  \n",
       "0                 bus  \n",
       "1                 bus  \n",
       "2              subway  \n",
       "3                walk  \n",
       "4                walk  \n",
       "...               ...  \n",
       "1149017         train  \n",
       "1149018         train  \n",
       "1149019         train  \n",
       "1149020         train  \n",
       "1149021         train  \n",
       "\n",
       "[1149022 rows x 5 columns]"
      ]
     },
     "execution_count": 7,
     "metadata": {},
     "output_type": "execute_result"
    }
   ],
   "source": [
    "final_trajectories"
   ]
  },
  {
   "cell_type": "code",
   "execution_count": 8,
   "id": "38fa1159",
   "metadata": {},
   "outputs": [
    {
     "name": "stdout",
     "output_type": "stream",
     "text": [
      "{'bus': [207893, 18.093039123706944], 'subway': [75629, 6.582032371877997], 'walk': [340337, 29.619711371931956], 'car': [145705, 12.680784179937374], 'bike': [144283, 12.557026758408455], 'taxi': [40533, 3.5276086967873552], 'train': [190054, 16.540501400321318], 'boat': [680, 0.05918076416291421], 'airplane': [3040, 0.26457282802244], 'run': [643, 0.0559606343481674], 'motorcycle': [225, 0.019581870495081904]}\n"
     ]
    }
   ],
   "source": [
    "transport_modes = final_trajectories['TransportMode']\n",
    "modes_count = dict(Counter(transport_modes))\n",
    "modes_percentage = dict()\n",
    "for key, val in modes_count.items():\n",
    "    modes_percentage[key] = val / len(transport_modes) * 100\n",
    "modes_analytics = {key: [modes_count[key], modes_percentage[key]] for key in modes_count}\n",
    "print(modes_analytics)"
   ]
  },
  {
   "cell_type": "code",
   "execution_count": 10,
   "id": "f5030acf",
   "metadata": {},
   "outputs": [],
   "source": [
    "final_trajectories.to_csv('./labeled_data/final_traj.csv')"
   ]
  }
 ],
 "metadata": {
  "kernelspec": {
   "display_name": "Python 3",
   "language": "python",
   "name": "python3"
  },
  "language_info": {
   "codemirror_mode": {
    "name": "ipython",
    "version": 3
   },
   "file_extension": ".py",
   "mimetype": "text/x-python",
   "name": "python",
   "nbconvert_exporter": "python",
   "pygments_lexer": "ipython3",
   "version": "3.8.10"
  }
 },
 "nbformat": 4,
 "nbformat_minor": 5
}
