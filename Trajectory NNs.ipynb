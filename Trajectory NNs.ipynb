{
 "cells": [
  {
   "cell_type": "code",
   "execution_count": 1,
   "metadata": {},
   "outputs": [],
   "source": [
    "import numpy as np\n",
    "import pandas as pd\n",
    "import torch.nn as nn\n",
    "import torch\n",
    "from tqdm import trange\n",
    "from sklearn.preprocessing import OneHotEncoder\n",
    "from sklearn.model_selection import train_test_split\n",
    "import matplotlib.pyplot as plt"
   ]
  },
  {
   "cell_type": "code",
   "execution_count": 36,
   "metadata": {},
   "outputs": [],
   "source": [
    "DEVICE = 'cuda' if torch.cuda.is_available() else 'cpu'"
   ]
  },
  {
   "cell_type": "code",
   "execution_count": 4,
   "metadata": {},
   "outputs": [],
   "source": [
    "df = pd.read_csv('final_traj.csv')\n",
    "df.drop(['Unnamed: 0'], axis=1, inplace=True)\n",
    "# split into training and test\n",
    "train, test = train_test_split(df, test_size=0.2)\n",
    "\n",
    "# train with KNN using TransportMode as target\n",
    "X_train = train.drop('TransportMode', axis=1)\n",
    "y_train = train['TransportMode']\n",
    "X_test = test.drop('TransportMode', axis=1)\n",
    "y_test = test['TransportMode']"
   ]
  },
  {
   "cell_type": "code",
   "execution_count": 66,
   "metadata": {},
   "outputs": [],
   "source": [
    "class MLP(nn.Module):\n",
    "    def __init__(self, input_size, hidden_size, output_size):\n",
    "        super().__init__()\n",
    "        self.net = nn.Sequential(\n",
    "            nn.Linear(input_size, hidden_size),\n",
    "            nn.ReLU(),\n",
    "            nn.Linear(hidden_size, hidden_size),\n",
    "            nn.ReLU(),\n",
    "            nn.Linear(hidden_size, output_size),\n",
    "            nn.LogSoftmax(dim=1)\n",
    "        )\n",
    "    \n",
    "    def forward(self, x):\n",
    "        return self.net(x)"
   ]
  },
  {
   "cell_type": "code",
   "execution_count": 6,
   "metadata": {},
   "outputs": [
    {
     "name": "stderr",
     "output_type": "stream",
     "text": [
      "/home/sortur.n/.conda/envs/drqv2/lib/python3.8/site-packages/sklearn/preprocessing/_label.py:98: DataConversionWarning: A column-vector y was passed when a 1d array was expected. Please change the shape of y to (n_samples, ), for example using ravel().\n",
      "  y = column_or_1d(y, warn=True)\n",
      "/home/sortur.n/.conda/envs/drqv2/lib/python3.8/site-packages/sklearn/preprocessing/_label.py:133: DataConversionWarning: A column-vector y was passed when a 1d array was expected. Please change the shape of y to (n_samples, ), for example using ravel().\n",
      "  y = column_or_1d(y, warn=True)\n"
     ]
    }
   ],
   "source": [
    "from sklearn.calibration import LabelEncoder\n",
    "\n",
    "enc = LabelEncoder()\n",
    "enc.fit(y_train.values.reshape(-1, 1))\n",
    "enc_y_train = enc.transform(y_train.values.reshape(-1, 1))\n",
    "enc.fit(y_test.values.reshape(-1, 1))\n",
    "enc_y_test = enc.transform(y_test.values.reshape(-1, 1))"
   ]
  },
  {
   "cell_type": "code",
   "execution_count": 52,
   "metadata": {},
   "outputs": [],
   "source": [
    "X_train_t = torch.tensor(X_train.values, dtype=torch.float32, requires_grad=True)[:X_train.shape[0] - X_train.shape[0] % 64, :]\n",
    "y_train_t = torch.tensor(enc_y_train, dtype=torch.int64)[:enc_y_train.shape[0] - enc_y_train.shape[0] % 64]\n",
    "X_test_t = torch.tensor(X_test.values, dtype=torch.float32)[:X_test.shape[0] - X_test.shape[0] % 64, :]\n",
    "y_test_t = torch.tensor(enc_y_test, dtype=torch.int64)[:enc_y_test.shape[0] - enc_y_test.shape[0] % 64]\n",
    "\n",
    "train_tensords = torch.utils.data.TensorDataset(X_train_t, y_train_t)\n",
    "test_tensords = torch.utils.data.TensorDataset(X_test_t, y_test_t)"
   ]
  },
  {
   "cell_type": "markdown",
   "metadata": {},
   "source": [
    "## Get data loaders"
   ]
  },
  {
   "cell_type": "code",
   "execution_count": 54,
   "metadata": {},
   "outputs": [],
   "source": [
    "batch_size=64\n",
    "train_loader = torch.utils.data.DataLoader(train_tensords, batch_size=batch_size, shuffle=True) \n",
    "test_loader = torch.utils.data.DataLoader(test_tensords, batch_size=batch_size, shuffle=False, num_workers=True)"
   ]
  },
  {
   "cell_type": "code",
   "execution_count": 55,
   "metadata": {},
   "outputs": [],
   "source": [
    "def train_one_epoch(train_loader, model, device, optimizer, log_interval, epoch):\n",
    "    model.train()\n",
    "    losses = []\n",
    "    counter = []\n",
    "    \n",
    "    for i, (img, label) in enumerate(train_loader):\n",
    "        img, label = img.to(device), label.to(device)\n",
    "        \n",
    "        # ------------------\n",
    "        # Write your implementation here.\n",
    "        optimizer.zero_grad()\n",
    "        ent_loss = torch.nn.CrossEntropyLoss()\n",
    "        model_out = model(img)\n",
    "\n",
    "        # target is 1 where ground truth is true\n",
    "        loss = ent_loss(model_out, label)\n",
    "\n",
    "        # optimize\n",
    "        loss.backward()\n",
    "        optimizer.step()\n",
    "               \n",
    "        # ------------------\n",
    "    \n",
    "        # Record training loss every log_interval and keep counter of total training images seen\n",
    "        if (i+1) % log_interval == 0:\n",
    "            losses.append(loss.item())\n",
    "            counter.append(\n",
    "                (i * batch_size) + img.size(0) + epoch * len(train_loader.dataset))\n",
    "\n",
    "    return losses, counter"
   ]
  },
  {
   "cell_type": "code",
   "execution_count": 34,
   "metadata": {},
   "outputs": [],
   "source": [
    "def test_one_epoch(test_loader, model, device):\n",
    "    model.eval()\n",
    "    test_loss = 0\n",
    "    num_correct = 0\n",
    "    \n",
    "    with torch.no_grad():\n",
    "        for i, (img, label) in enumerate(test_loader):\n",
    "            img, label = img.to(device), label.to(device)\n",
    "\n",
    "            # ------------------\n",
    "            # Write your implementation here.\n",
    "            \n",
    "            output = model(img)\n",
    "            pred = torch.argmax(output, dim=1) # Get index of largest log-probability and use that as prediction\n",
    "            \n",
    "            ent_loss = torch.nn.CrossEntropyLoss()\n",
    "            # get the number of correct predictions and append to num_correct\n",
    "            num_correct += (pred == label).sum().item()\n",
    "            test_loss += ent_loss(output, label)\n",
    "\n",
    "            # ------------------\n",
    "            \n",
    "    test_loss /= len(test_loader.dataset)\n",
    "    return test_loss, num_correct"
   ]
  },
  {
   "cell_type": "code",
   "execution_count": 67,
   "metadata": {},
   "outputs": [],
   "source": [
    "def train_mlp(hidden_units, lr, max_epochs):\n",
    "    # Recording data\n",
    "    log_interval = 100\n",
    "\n",
    "    # Model initialization\n",
    "    traj_nn = MLP(4, hidden_units, 11).to(DEVICE)\n",
    "\n",
    "    # Instantiate optimizer (model was created in previous cell)\n",
    "    optimizer = torch.optim.SGD(traj_nn.parameters(), lr=lr)\n",
    "\n",
    "    train_losses = []\n",
    "    train_counter = []\n",
    "    test_losses = []\n",
    "    test_correct = []\n",
    "    for epoch in trange(max_epochs, leave=True, desc='Epochs'):\n",
    "        train_loss, counter = train_one_epoch(train_loader, traj_nn, DEVICE, optimizer, log_interval, epoch)\n",
    "        test_loss, num_correct = test_one_epoch(test_loader, traj_nn, DEVICE)\n",
    "\n",
    "        # Record results\n",
    "        train_losses.extend(train_loss)\n",
    "        train_counter.extend(counter)\n",
    "        test_losses.append(test_loss)\n",
    "        test_correct.append(num_correct)\n",
    "        print(f\"Test accuracy: {test_correct[-1]/len(test_loader.dataset)}\")\n",
    "    \n",
    "    return train_losses, train_counter, test_losses, test_correct"
   ]
  },
  {
   "cell_type": "code",
   "execution_count": 69,
   "metadata": {},
   "outputs": [
    {
     "name": "stderr",
     "output_type": "stream",
     "text": [
      "Epochs:  50%|█████████████████████████████████████████████████████████                                                         | 1/2 [17:10<17:10, 1030.36s/it]"
     ]
    },
    {
     "name": "stdout",
     "output_type": "stream",
     "text": [
      "Test accuracy: 0.5363118036211699\n"
     ]
    },
    {
     "name": "stderr",
     "output_type": "stream",
     "text": [
      "Epochs: 100%|██████████████████████████████████████████████████████████████████████████████████████████████████████████████████| 2/2 [34:51<00:00, 1045.74s/it]\n"
     ]
    },
    {
     "name": "stdout",
     "output_type": "stream",
     "text": [
      "Test accuracy: 0.49940372562674096\n"
     ]
    },
    {
     "name": "stderr",
     "output_type": "stream",
     "text": [
      "Epochs:  50%|█████████████████████████████████████████████████████████                                                         | 1/2 [17:46<17:46, 1066.44s/it]"
     ]
    },
    {
     "name": "stdout",
     "output_type": "stream",
     "text": [
      "Test accuracy: 0.47831215181058495\n"
     ]
    },
    {
     "name": "stderr",
     "output_type": "stream",
     "text": [
      "Epochs: 100%|██████████████████████████████████████████████████████████████████████████████████████████████████████████████████| 2/2 [35:21<00:00, 1060.76s/it]\n"
     ]
    },
    {
     "name": "stdout",
     "output_type": "stream",
     "text": [
      "Test accuracy: 0.5367252785515321\n"
     ]
    },
    {
     "name": "stderr",
     "output_type": "stream",
     "text": [
      "Epochs:  50%|█████████████████████████████████████████████████████████                                                         | 1/2 [17:06<17:06, 1026.88s/it]"
     ]
    },
    {
     "name": "stdout",
     "output_type": "stream",
     "text": [
      "Test accuracy: 0.4651418871866295\n"
     ]
    },
    {
     "name": "stderr",
     "output_type": "stream",
     "text": [
      "Epochs: 100%|██████████████████████████████████████████████████████████████████████████████████████████████████████████████████| 2/2 [34:14<00:00, 1027.26s/it]\n"
     ]
    },
    {
     "name": "stdout",
     "output_type": "stream",
     "text": [
      "Test accuracy: 0.5085306406685237\n"
     ]
    },
    {
     "name": "stderr",
     "output_type": "stream",
     "text": [
      "Epochs:  50%|█████████████████████████████████████████████████████████                                                         | 1/2 [17:06<17:06, 1026.12s/it]"
     ]
    },
    {
     "name": "stdout",
     "output_type": "stream",
     "text": [
      "Test accuracy: 0.4424616991643454\n"
     ]
    },
    {
     "name": "stderr",
     "output_type": "stream",
     "text": [
      "Epochs: 100%|██████████████████████████████████████████████████████████████████████████████████████████████████████████████████| 2/2 [34:27<00:00, 1033.62s/it]"
     ]
    },
    {
     "name": "stdout",
     "output_type": "stream",
     "text": [
      "Test accuracy: 0.5468662952646239\n"
     ]
    },
    {
     "name": "stderr",
     "output_type": "stream",
     "text": [
      "\n"
     ]
    }
   ],
   "source": [
    "trl_1, trc_1, tel_1, tec_1 = train_mlp(hidden_units=128, lr=0.01, max_epochs=2)\n",
    "trl_2, trc_2, tel_2, tec_2 = train_mlp(hidden_units=128, lr=0.001, max_epochs=2)\n",
    "trl_3, trc_3, tel_3, tec_3 = train_mlp(hidden_units=256, lr=0.01, max_epochs=2)\n",
    "trl_4, trc_4, tel_4, tec_4 = train_mlp(hidden_units=256, lr=0.001, max_epochs=2)"
   ]
  },
  {
   "cell_type": "code",
   "execution_count": 75,
   "metadata": {},
   "outputs": [
    {
     "name": "stdout",
     "output_type": "stream",
     "text": [
      "286\n"
     ]
    },
    {
     "data": {
      "text/plain": [
       "Text(0.5, 1.0, 'Train loss, lr=0.01, hidden=128')"
      ]
     },
     "execution_count": 75,
     "metadata": {},
     "output_type": "execute_result"
    },
    {
     "data": {
      "image/png": "[encoded data removed]",
      "text/plain": [
       "<Figure size 432x288 with 1 Axes>"
      ]
     },
     "metadata": {
      "needs_background": "light"
     },
     "output_type": "display_data"
    }
   ],
   "source": [
    "print(len(trl_1))\n",
    "plt.plot(trl_1)\n",
    "plt.title('Train loss, lr=0.01, hidden=128')"
   ]
  },
  {
   "cell_type": "code",
   "execution_count": 76,
   "metadata": {},
   "outputs": [
    {
     "data": {
      "text/plain": [
       "Text(0.5, 1.0, 'Train loss, lr=0.001, hidden=128')"
      ]
     },
     "execution_count": 76,
     "metadata": {},
     "output_type": "execute_result"
    },
    {
     "data": {
      "image/png": "[encoded data removed]",
      "text/plain": [
       "<Figure size 432x288 with 1 Axes>"
      ]
     },
     "metadata": {
      "needs_background": "light"
     },
     "output_type": "display_data"
    }
   ],
   "source": [
    "plt.plot(trl_2)\n",
    "plt.title('Train loss, lr=0.001, hidden=128')"
   ]
  },
  {
   "cell_type": "code",
   "execution_count": 77,
   "metadata": {},
   "outputs": [
    {
     "data": {
      "text/plain": [
       "Text(0.5, 1.0, 'Train loss, lr=0.01, hidden=256')"
      ]
     },
     "execution_count": 77,
     "metadata": {},
     "output_type": "execute_result"
    },
    {
     "data": {
      "image/png": "[encoded data removed]",
      "text/plain": [
       "<Figure size 432x288 with 1 Axes>"
      ]
     },
     "metadata": {
      "needs_background": "light"
     },
     "output_type": "display_data"
    }
   ],
   "source": [
    "plt.plot(trl_3)\n",
    "plt.title('Train loss, lr=0.01, hidden=256')"
   ]
  },
  {
   "cell_type": "code",
   "execution_count": 78,
   "metadata": {},
   "outputs": [
    {
     "data": {
      "text/plain": [
       "Text(0.5, 1.0, 'Train loss, lr=0.001, hidden=256')"
      ]
     },
     "execution_count": 78,
     "metadata": {},
     "output_type": "execute_result"
    },
    {
     "data": {
      "image/png": "[encoded data removed]",
      "text/plain": [
       "<Figure size 432x288 with 1 Axes>"
      ]
     },
     "metadata": {
      "needs_background": "light"
     },
     "output_type": "display_data"
    }
   ],
   "source": [
    "plt.plot(trl_4)\n",
    "plt.title('Train loss, lr=0.001, hidden=256')"
   ]
  }
 ],
 "metadata": {
  "kernelspec": {
   "display_name": "Python 3 (ipykernel)",
   "language": "python",
   "name": "python3"
  },
  "language_info": {
   "codemirror_mode": {
    "name": "ipython",
    "version": 3
   },
   "file_extension": ".py",
   "mimetype": "text/x-python",
   "name": "python",
   "nbconvert_exporter": "python",
   "pygments_lexer": "ipython3",
   "version": "3.8.12"
  }
 },
 "nbformat": 4,
 "nbformat_minor": 4
}
